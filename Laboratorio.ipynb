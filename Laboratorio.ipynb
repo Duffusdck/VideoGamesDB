{
  "nbformat": 4,
  "nbformat_minor": 0,
  "metadata": {
    "colab": {
      "provenance": [],
      "collapsed_sections": [
        "meWmhBbgd3PL",
        "Zyl4E_HzeQdz",
        "LBA9mwfie27f",
        "1mOVL8D7yIxs",
        "YmHiLyV63ow3"
      ],
      "authorship_tag": "ABX9TyMPO360OwABTX6BT7KgYMYC",
      "include_colab_link": true
    },
    "kernelspec": {
      "name": "python3",
      "display_name": "Python 3"
    },
    "language_info": {
      "name": "python"
    }
  },
  "cells": [
    {
      "cell_type": "markdown",
      "metadata": {
        "id": "view-in-github",
        "colab_type": "text"
      },
      "source": [
        "<a href=\"https://colab.research.google.com/github/Duffusdck/VideoGamesDB/blob/main/Laboratorio.ipynb\" target=\"_parent\"><img src=\"https://colab.research.google.com/assets/colab-badge.svg\" alt=\"Open In Colab\"/></a>"
      ]
    },
    {
      "cell_type": "markdown",
      "source": [
        "#Practica labotatorio POO\n",
        "Este laboratorio esta basado en el funcionamiento de la generacion de cuentas bancarias."
      ],
      "metadata": {
        "id": "A-bv3BkBdWHd"
      }
    },
    {
      "cell_type": "code",
      "source": [
        "'''\n",
        "===============================================================================\n",
        "ENCABEZADO DEL MODULO\n",
        "===============================================================================\n",
        "MÓDULO: laboratorio.py\n",
        "OBJETIVO: Practica de laboratorio para la comprension de python bajo el paradigma de POO\n",
        "ASIGNATURA: Ciencia de datos\n",
        "AUTOR: Milton Hernan Cuitiva Romero\n",
        "'''"
      ],
      "metadata": {
        "id": "PiZluVFmFwm7"
      },
      "execution_count": null,
      "outputs": []
    },
    {
      "cell_type": "markdown",
      "source": [
        "##Intalacion paquetes complementarios\n",
        "Se intala el paquete bcrypt para el encriptamiento de claves"
      ],
      "metadata": {
        "id": "meWmhBbgd3PL"
      }
    },
    {
      "cell_type": "code",
      "metadata": {
        "colab": {
          "base_uri": "https://localhost:8080/"
        },
        "id": "9af94ebb",
        "outputId": "59eec5c1-3c68-45a5-dae2-bf67b36e6eb6"
      },
      "source": [
        "%pip install bcrypt"
      ],
      "execution_count": 1,
      "outputs": [
        {
          "output_type": "stream",
          "name": "stdout",
          "text": [
            "Collecting bcrypt\n",
            "  Downloading bcrypt-4.3.0-cp39-abi3-manylinux_2_34_x86_64.whl.metadata (10 kB)\n",
            "Downloading bcrypt-4.3.0-cp39-abi3-manylinux_2_34_x86_64.whl (284 kB)\n",
            "\u001b[2K   \u001b[90m━━━━━━━━━━━━━━━━━━━━━━━━━━━━━━━━━━━━━━━━\u001b[0m \u001b[32m284.2/284.2 kB\u001b[0m \u001b[31m3.4 MB/s\u001b[0m eta \u001b[36m0:00:00\u001b[0m\n",
            "\u001b[?25hInstalling collected packages: bcrypt\n",
            "Successfully installed bcrypt-4.3.0\n"
          ]
        }
      ]
    },
    {
      "cell_type": "markdown",
      "source": [
        "##Importacion de librerias\n",
        "1. bcrypt para la encriptacion de claves\n",
        "2. Random para la generacion de numeros aleatorios\n",
        "3. Time para ayudar a crear numeros mas unicos y que sea mas complicado que se hayen numeros duplicados"
      ],
      "metadata": {
        "id": "Zyl4E_HzeQdz"
      }
    },
    {
      "cell_type": "code",
      "source": [
        "import bcrypt\n",
        "import random\n",
        "import time"
      ],
      "metadata": {
        "id": "o924E-rKUrc7"
      },
      "execution_count": 2,
      "outputs": []
    },
    {
      "cell_type": "markdown",
      "source": [
        "##Funcion para generar numeros unicos\n",
        "La funcion buscara crear un id unico.\n",
        "\n",
        "\"tiempo\" es una variable que guardara en milisegundos el tiempo actual, (se guardara en int para evitar guardar numeros decimales).\n",
        "\n",
        "Se generar un numero aleatorio de 3 digitos para que sea menos probable la generacion de otro id parecido.\n",
        "\n",
        "Se borrara los primeros 10 numeros para acortar el resultado y la posterior busqueda de datos sea mas accesible."
      ],
      "metadata": {
        "id": "LBA9mwfie27f"
      }
    },
    {
      "cell_type": "code",
      "source": [
        "def generar_id():\n",
        "  tiempo = int(time.time() * 1000)\n",
        "  random_number = random.randint(100, 999)\n",
        "  numero = f\"{tiempo}{random_number}\"\n",
        "  numero_acortado = numero[10:]\n",
        "  return int(numero_acortado)"
      ],
      "metadata": {
        "id": "MS6VwwXPZmpy"
      },
      "execution_count": 52,
      "outputs": []
    },
    {
      "cell_type": "markdown",
      "source": [
        "##Clase Usuario\n",
        "Representa a un usuario de un banco con su informacion personal"
      ],
      "metadata": {
        "id": "ciEjHqi1gPoY"
      }
    },
    {
      "cell_type": "code",
      "source": [
        "class Usuario:"
      ],
      "metadata": {
        "id": "RzCxAMQmwdOU"
      },
      "execution_count": 62,
      "outputs": []
    },
    {
      "cell_type": "markdown",
      "source": [
        "###Metodo constructor\n",
        "Metodo contructor de la clase usuario.\n",
        "\n",
        "Nombre del usuario tipo String, email tipo String.\n",
        "\n",
        "Para el id se usa el metodo generar_id para evitar el que se repita el mismo id para otro usuario"
      ],
      "metadata": {
        "id": "hT2dhwqiguI1"
      }
    },
    {
      "cell_type": "code",
      "source": [
        "  def __init__(self, nombre: str, email: str):\n",
        "    self.id = generar_id()\n",
        "    self.nombre = nombre\n",
        "    self.email = email\n",
        "    self.password = None"
      ],
      "metadata": {
        "id": "3DYqAqp0wjwo"
      },
      "execution_count": 60,
      "outputs": []
    },
    {
      "cell_type": "markdown",
      "source": [
        "###Metodo registrarse\n",
        "Retorna un mensaje que confirma el registro exitoso del usuario"
      ],
      "metadata": {
        "id": "635RR68CiIWv"
      }
    },
    {
      "cell_type": "code",
      "source": [
        "  def registrarse(self):\n",
        "    print(f\"Usuario {self.nombre} con correo {self.email} registrado con exito\")"
      ],
      "metadata": {
        "id": "WUD5S-5qwkMu"
      },
      "execution_count": 63,
      "outputs": []
    },
    {
      "cell_type": "markdown",
      "source": [
        "###Metodo set_password\n",
        "Encriptara la contraseña del usuario en un hash unico.\n",
        "\n",
        "Primero se guardara una cadena de caracteres aleactorios generada por **bcrypt**.\n",
        "\n",
        "Posteriormente se guardara la contraseña encriptada directamente en el objeto y se imprimira un mensaje para confirmar el correcto guardado de la contraseña"
      ],
      "metadata": {
        "id": "ClSsqDK4iuLD"
      }
    },
    {
      "cell_type": "code",
      "source": [
        "  def set_password(self, password:str):\n",
        "    salt = bcrypt.gensalt()\n",
        "    self.password = bcrypt.hashpw(password.encode('utf-8'), salt)\n",
        "    print(\"Contraseña guardada correctamente.\")"
      ],
      "metadata": {
        "id": "u4TCDl2Jw482"
      },
      "execution_count": 64,
      "outputs": []
    },
    {
      "cell_type": "markdown",
      "source": [
        "###Metodo check_password\n",
        "Comapra la contraseña proporcionada con la cifrada y almacenada.\n",
        "\n",
        "Se realiza la verificacion"
      ],
      "metadata": {
        "id": "NKAXjeCHv6i3"
      }
    },
    {
      "cell_type": "code",
      "execution_count": 65,
      "metadata": {
        "id": "xAO2oZGqbkNO"
      },
      "outputs": [],
      "source": [
        "  def Check_password(self, password:str):\n",
        "    if bcrypt.checkpw(password.encode('utf-8'), self.password):\n",
        "      print(\"Contraseña correcta.\")\n",
        "    else:\n",
        "      print(\"Contraseña incorrecta.\")"
      ]
    },
    {
      "cell_type": "markdown",
      "source": [
        "###Metodo __str__\n",
        "Representacion del objeto en una cadena de texto. Muestra los datos del usuario tales como su nombre, email y id."
      ],
      "metadata": {
        "id": "-GBFg-PXxrmk"
      }
    },
    {
      "cell_type": "code",
      "source": [
        "  def __str__(self):\n",
        "    return f\"Usuario: {self.nombre}, Email: {self.email}, ID: {self.id}\""
      ],
      "metadata": {
        "id": "u7CguDKtxuhG"
      },
      "execution_count": 66,
      "outputs": []
    },
    {
      "cell_type": "markdown",
      "source": [
        "##Clase CuentaBancaria\n",
        "Clase que simula una cuenta bancaria con sus respectivos datos y metodos para las transacciones\n"
      ],
      "metadata": {
        "id": "1mOVL8D7yIxs"
      }
    },
    {
      "cell_type": "markdown",
      "source": [
        "###Metodo constructor\n",
        "numero de cuenta sera asignado por el banco, el usuario debera estar creado previamente a la creacion de una cuenta bancaria.\n",
        "\n",
        "saldo sera por defecto 0.0."
      ],
      "metadata": {
        "id": "q2jHwLClyaVk"
      }
    },
    {
      "cell_type": "code",
      "source": [
        "class CuentaBancaria:\n",
        "  def __init__(self, numero_cuenta: int, usuario: Usuario):\n",
        "    self.numero_cuenta = numero_cuenta\n",
        "    self.saldo = 0.0\n",
        "    self.usuario = usuario\n",
        "    self.id_usuario = Usuario.id"
      ],
      "metadata": {
        "id": "pbY64oOh3Lu1"
      },
      "execution_count": null,
      "outputs": []
    },
    {
      "cell_type": "markdown",
      "source": [
        "###Metodo depositar\n",
        "simula la transaccion de depositar una cantidad determinada en la cuenta bancaria.\n",
        "\n",
        "Retornara un mensaje para confirmar el exito de la transaccion"
      ],
      "metadata": {
        "id": "02P0kM78yaPA"
      }
    },
    {
      "cell_type": "code",
      "source": [
        "  def depositar(self, cantidad):\n",
        "    self.saldo += cantidad"
      ],
      "metadata": {
        "id": "UoFRvCGz3bR9"
      },
      "execution_count": null,
      "outputs": []
    },
    {
      "cell_type": "markdown",
      "source": [
        "###Metodo retirar\n",
        "Se confirmara primero que exista un saldo mayor o igual para proceder con la operacion, de lo contrario se imprimira un mensaje informando del saldo insuficiente para la transaccion"
      ],
      "metadata": {
        "id": "Yw91Hrj1yaHk"
      }
    },
    {
      "cell_type": "code",
      "source": [
        "  def retirar(self, cantidad):\n",
        "    if self.saldo >= cantidad:\n",
        "      self.saldo -= cantidad\n",
        "    else:\n",
        "      print(\"Saldo insuficiente\")"
      ],
      "metadata": {
        "id": "MvHY7dkO3cD1"
      },
      "execution_count": null,
      "outputs": []
    },
    {
      "cell_type": "markdown",
      "source": [
        "###Metodo consultar_saldo\n",
        "Imprimira un mensaje en la pantalla con el numero de cuenta y el saldo total de la misma. Tambien retornara el saldo en caso de necesitarlo para hacer alguna operacion."
      ],
      "metadata": {
        "id": "gk2GTn7YyZra"
      }
    },
    {
      "cell_type": "code",
      "source": [
        "  def consultar_saldo(self):\n",
        "    print(f\"El saldo de la cuenta {self.numero_cuenta} es: {self.saldo}\")\n",
        "    return self.saldo"
      ],
      "metadata": {
        "id": "nSXm4mR13cjQ"
      },
      "execution_count": null,
      "outputs": []
    },
    {
      "cell_type": "markdown",
      "source": [
        "###Metodo __str__\n",
        "Mostrara la informacion de la cuenta bancaria tal como el numero de cuenta, el saldo y la informacion del usuario"
      ],
      "metadata": {
        "id": "fWhlkIO-229n"
      }
    },
    {
      "cell_type": "code",
      "source": [
        "  def __str__(self):\n",
        "    return f\"Cuenta: {self.numero_cuenta}, Saldo: {self.saldo}, Usuario: {self.Usuario}\""
      ],
      "metadata": {
        "id": "fbp2JBf8jUjh"
      },
      "execution_count": 29,
      "outputs": []
    },
    {
      "cell_type": "markdown",
      "source": [
        "##Clase Banco\n",
        "Guarda en una lista las cuentas bancarias que se le ingresen tal y como lo haria un banco"
      ],
      "metadata": {
        "id": "YmHiLyV63ow3"
      }
    },
    {
      "cell_type": "markdown",
      "source": [
        "###Metodo constructor\n",
        "Inicializa con un nombre proporcionado por el usuario y una lista en blanco"
      ],
      "metadata": {
        "id": "2h4O61SQ4GE-"
      }
    },
    {
      "cell_type": "code",
      "source": [
        "class Banco:\n",
        "  def __init__(self,nombre):\n",
        "    self.nombre = nombre\n",
        "    self.cuentas = []"
      ],
      "metadata": {
        "id": "EPKz5wGK8Ch8"
      },
      "execution_count": null,
      "outputs": []
    },
    {
      "cell_type": "markdown",
      "source": [
        "###Metodo abrir_Cuenta\n",
        "Se creara una nueva cuenta bancaria la cual se guardara en la lista vacia con todos los datos de la clase **CuentaBancaria** y **Usuario**.\n",
        "Se utilizara un metodo para generar un id para la cuenta bancaria."
      ],
      "metadata": {
        "id": "092s6ZRB4TLJ"
      }
    },
    {
      "cell_type": "code",
      "source": [
        "  def abrir_cuenta(self, usuario: Usuario):\n",
        "    nueva_cuenta = CuentaBancaria(generar_id(), usuario)\n",
        "    self.cuentas.append(nueva_cuenta)\n",
        "    print(f\"Cuenta creada con exito. Numero de cuenta: {nueva_cuenta.numero_cuenta}\")\n",
        "    return nueva_cuenta"
      ],
      "metadata": {
        "id": "CwIBaK0x6ESJ"
      },
      "execution_count": null,
      "outputs": []
    },
    {
      "cell_type": "markdown",
      "source": [
        "###Metodo buscar_cuenta\n",
        "Con un numero de cuenta proporcionado se buscara en toda la lista un numero que conincida, en caso de no encontrar un numero que coincida se imprimira un mensaje informando que nose encontro la cuenta y no se retornara ningun dato."
      ],
      "metadata": {
        "id": "x_U2psCR5EAz"
      }
    },
    {
      "cell_type": "code",
      "source": [
        "  def buscar_cuenta(self, numero_cuenta):\n",
        "    for cuenta in self.cuentas:\n",
        "      if cuenta.numero_cuenta == numero_cuenta:\n",
        "        return cuenta\n",
        "    print(\"No se encontro la cuenta\")\n",
        "    return None"
      ],
      "metadata": {
        "id": "R8Rw9XYT6GqE"
      },
      "execution_count": null,
      "outputs": []
    },
    {
      "cell_type": "markdown",
      "source": [
        "###Metodo realizar_transferencia\n",
        "Se confirmara primero que la cuenta de origen tenga saldo suficiente para realizar la transaccion, posterior se restara la cantidad a transferir de la cuenta de origen y se le sumara a la cuenta de destino.\n",
        "En caso que la cuenta de origen no tenga el saldo suficiente se mostrara un mensaje que informara la falta de saldo."
      ],
      "metadata": {
        "id": "_2ubYP3F5WoF"
      }
    },
    {
      "cell_type": "code",
      "source": [
        "  def realizar_transferencia(self, cuenta_origen, cuenta_destino, cantidad):\n",
        "    if cuenta_origen.saldo >= cantidad:\n",
        "      cuenta_origen.saldo -= cantidad\n",
        "      cuenta_destino.saldo += cantidad\n",
        "      print(\"Transferencia realizada con exito\")\n",
        "    else:\n",
        "      print(\"Saldo insuficiente\")\n"
      ],
      "metadata": {
        "id": "yTzJiqWe_g5D"
      },
      "execution_count": 32,
      "outputs": []
    },
    {
      "cell_type": "markdown",
      "source": [
        "#Codigo Completo"
      ],
      "metadata": {
        "id": "MkhyFnN961nY"
      }
    },
    {
      "cell_type": "code",
      "source": [
        "%pip install bcrypt\n",
        "import bcrypt\n",
        "import random\n",
        "import time\n",
        "\n",
        "def generar_id():\n",
        "  tiempo = int(time.time() * 1000)\n",
        "  random_number = random.randint(100, 999)\n",
        "  numero = f\"{tiempo}{random_number}\"\n",
        "  numero_acortado = numero[10:]\n",
        "  return int(numero_acortado)\n",
        "\n",
        "\n",
        "class Usuario:\n",
        "  def __init__(self, nombre: str, email: str):\n",
        "    self.id = generar_id()\n",
        "    self.nombre = nombre\n",
        "    self.email = email\n",
        "    self.password = None\n",
        "\n",
        "  def registrarse(self):\n",
        "    print(f\"Usuario {self.nombre} con correo {self.email} registrado con exito\")\n",
        "\n",
        "  def set_password(self, password:str):\n",
        "    salt = bcrypt.gensalt()\n",
        "    self.password = bcrypt.hashpw(password.encode('utf-8'), salt)\n",
        "    print(\"Contraseña guardada correctamente.\")\n",
        "\n",
        "  def Check_password(self, password:str):\n",
        "    if bcrypt.checkpw(password.encode('utf-8'), self.password):\n",
        "      print(\"Contraseña correcta.\")\n",
        "    else:\n",
        "      print(\"Contraseña incorrecta.\")\n",
        "\n",
        "  def __str__(self):\n",
        "    return f\"Usuario: {self.nombre}, Email: {self.email}, ID: {self.id}\"\n",
        "\n",
        "class CuentaBancaria:\n",
        "  def __init__(self, numero_cuenta: int, usuario: Usuario):\n",
        "    self.numero_cuenta = numero_cuenta\n",
        "    self.saldo = 0.0\n",
        "    self.usuario = usuario\n",
        "    self.id_usuario = usuario.id\n",
        "\n",
        "  def depositar(self, cantidad):\n",
        "    self.saldo += cantidad\n",
        "\n",
        "  def retirar(self, cantidad):\n",
        "    if self.saldo >= cantidad:\n",
        "      self.saldo -= cantidad\n",
        "    else:\n",
        "      print(\"Saldo insuficiente\")\n",
        "\n",
        "  def consultar_saldo(self):\n",
        "    print(f\"El saldo de la cuenta {self.numero_cuenta} es: {self.saldo}\")\n",
        "    return self.saldo\n",
        "\n",
        "  def __str__(self):\n",
        "    return f\"Cuenta: {self.numero_cuenta}, Saldo: {self.saldo}, Usuario: {self.Usuario}\"\n",
        "\n",
        "class Banco:\n",
        "  def __init__(self,nombre):\n",
        "    self.nombre = nombre\n",
        "    self.cuentas = []\n",
        "\n",
        "  def abrir_cuenta(self, usuario: Usuario):\n",
        "    nueva_cuenta = CuentaBancaria(generar_id(), usuario)\n",
        "    self.cuentas.append(nueva_cuenta)\n",
        "    print(f\"Cuenta creada con exito. Numero de cuenta: {nueva_cuenta.numero_cuenta}\")\n",
        "    return nueva_cuenta\n",
        "\n",
        "  def buscar_cuenta(self, numero_cuenta):\n",
        "    for cuenta in self.cuentas:\n",
        "      if cuenta.numero_cuenta == numero_cuenta:\n",
        "        return cuenta\n",
        "    print(\"No se encontro la cuenta\")\n",
        "    return None\n",
        "\n",
        "  def realizar_transferencia(self, cuenta_origen, cuenta_destino, cantidad):\n",
        "    if cuenta_origen.saldo >= cantidad:\n",
        "      cuenta_origen.saldo -= cantidad\n",
        "      cuenta_destino.saldo += cantidad\n",
        "      print(\"Transferencia realizada con exito\")\n",
        "    else:\n",
        "      print(\"Saldo insuficiente\")\n",
        "\n",
        "if __name__ == \"__main__\":\n",
        "  print(\"--- Creando banco ---\")\n",
        "  banco = Banco(\"Banco X\")\n",
        "  print(\"--- Creando usuario ---\")\n",
        "\n",
        "  for i in range(1, 11):\n",
        "    nombre_usuario = f\"Usuario{i}\"\n",
        "    email_usuario = f\"usuario{i}@email.com\"\n",
        "\n",
        "    # Crea el usuario y lo registra\n",
        "    nuevo_usuario = Usuario(nombre_usuario, email_usuario)\n",
        "    nuevo_usuario.registrarse()\n",
        "\n",
        "    # Abre una cuenta para el nuevo usuario\n",
        "    nueva_cuenta = banco.abrir_cuenta(nuevo_usuario)\n",
        "\n",
        "   # Seccion de 3 transacciones por usuario\n",
        "  print(\"\\n--- Realizando transacciones de depósito y retiro para cada cuenta ---\")\n",
        "  for i, cuenta in enumerate(banco.cuentas):\n",
        "    print(f\"\\nTransacciones para {cuenta.usuario.nombre}:\")\n",
        "    # Transacción 1: Depósito\n",
        "    deposito1 = random.randint(50, 200)\n",
        "    cuenta.depositar(deposito1)\n",
        "    print(f\"  - Depósito de ${deposito1}\")\n",
        "\n",
        "    # Transacción 2: Depósito\n",
        "    deposito2 = random.randint(50, 200)\n",
        "    cuenta.depositar(deposito2)\n",
        "    print(f\"  - Depósito de ${deposito2}\")\n",
        "\n",
        "    # Transacción 3: Retiro\n",
        "    retiro1 = random.randint(20, 100)\n",
        "    cuenta.retirar(retiro1)\n",
        "    print(f\"  - Retiro de ${retiro1}\")\n",
        "    cuenta.consultar_saldo()\n",
        "\n",
        "  # 10 transferencias entre las cuentas\n",
        "  print(\"\\n--- Realizando 10 transferencias entre cuentas ---\")\n",
        "  for i in range(10):\n",
        "    cuenta_origen_index = random.randint(0, 9)\n",
        "    cuenta_destino_index = random.randint(0, 9)\n",
        "\n",
        "    # Confirmacion para no transferir a la misma cuenta\n",
        "    while cuenta_origen_index == cuenta_destino_index:\n",
        "      cuenta_destino_index = random.randint(0, 9)\n",
        "\n",
        "    cuenta_origen = banco.cuentas[cuenta_origen_index]\n",
        "    cuenta_destino = banco.cuentas[cuenta_destino_index]\n",
        "    cantidad_transferencia = random.randint(10, 50)\n",
        "\n",
        "    print(f\"\\nTransferencia #{i+1}:\")\n",
        "    banco.realizar_transferencia(cuenta_origen, cuenta_destino, cantidad_transferencia)\n",
        "\n",
        "  # Consultar saldos finales\n",
        "  print(\"\\n--- Saldos finales de todas las cuentas ---\")\n",
        "  for cuenta in banco.cuentas:\n",
        "    cuenta.consultar_saldo()\n",
        "\n",
        "\n"
      ],
      "metadata": {
        "colab": {
          "base_uri": "https://localhost:8080/"
        },
        "id": "PpSx7AXa6u9L",
        "outputId": "0fbafbba-5901-46de-e8aa-966b1ab8f37c"
      },
      "execution_count": 72,
      "outputs": [
        {
          "output_type": "stream",
          "name": "stdout",
          "text": [
            "Requirement already satisfied: bcrypt in /usr/local/lib/python3.12/dist-packages (4.3.0)\n",
            "--- Creando banco ---\n",
            "--- Creando usuario ---\n",
            "Usuario Usuario1 con correo usuario1@email.com registrado con exito\n",
            "146876\n",
            "Cuenta creada con exito. Numero de cuenta: 146913\n",
            "Usuario Usuario2 con correo usuario2@email.com registrado con exito\n",
            "146553\n",
            "Cuenta creada con exito. Numero de cuenta: 146391\n",
            "Usuario Usuario3 con correo usuario3@email.com registrado con exito\n",
            "146187\n",
            "Cuenta creada con exito. Numero de cuenta: 146721\n",
            "Usuario Usuario4 con correo usuario4@email.com registrado con exito\n",
            "146891\n",
            "Cuenta creada con exito. Numero de cuenta: 146531\n",
            "Usuario Usuario5 con correo usuario5@email.com registrado con exito\n",
            "146821\n",
            "Cuenta creada con exito. Numero de cuenta: 146760\n",
            "Usuario Usuario6 con correo usuario6@email.com registrado con exito\n",
            "146104\n",
            "Cuenta creada con exito. Numero de cuenta: 146149\n",
            "Usuario Usuario7 con correo usuario7@email.com registrado con exito\n",
            "146961\n",
            "Cuenta creada con exito. Numero de cuenta: 146508\n",
            "Usuario Usuario8 con correo usuario8@email.com registrado con exito\n",
            "146664\n",
            "Cuenta creada con exito. Numero de cuenta: 146246\n",
            "Usuario Usuario9 con correo usuario9@email.com registrado con exito\n",
            "146977\n",
            "Cuenta creada con exito. Numero de cuenta: 146369\n",
            "Usuario Usuario10 con correo usuario10@email.com registrado con exito\n",
            "146719\n",
            "Cuenta creada con exito. Numero de cuenta: 146619\n",
            "\n",
            "Transacciones para Usuario1:\n",
            "  - Depósito de $62\n",
            "  - Depósito de $59\n",
            "  - Retiro de $69\n",
            "El saldo de la cuenta 146913 es: 52.0\n",
            "\n",
            "Transacciones para Usuario2:\n",
            "  - Depósito de $113\n",
            "  - Depósito de $161\n",
            "  - Retiro de $58\n",
            "El saldo de la cuenta 146391 es: 216.0\n",
            "\n",
            "Transacciones para Usuario3:\n",
            "  - Depósito de $93\n",
            "  - Depósito de $136\n",
            "  - Retiro de $94\n",
            "El saldo de la cuenta 146721 es: 135.0\n",
            "\n",
            "Transacciones para Usuario4:\n",
            "  - Depósito de $172\n",
            "  - Depósito de $90\n",
            "  - Retiro de $96\n",
            "El saldo de la cuenta 146531 es: 166.0\n",
            "\n",
            "Transacciones para Usuario5:\n",
            "  - Depósito de $100\n",
            "  - Depósito de $156\n",
            "  - Retiro de $82\n",
            "El saldo de la cuenta 146760 es: 174.0\n",
            "\n",
            "Transacciones para Usuario6:\n",
            "  - Depósito de $196\n",
            "  - Depósito de $101\n",
            "  - Retiro de $96\n",
            "El saldo de la cuenta 146149 es: 201.0\n",
            "\n",
            "Transacciones para Usuario7:\n",
            "  - Depósito de $171\n",
            "  - Depósito de $147\n",
            "  - Retiro de $90\n",
            "El saldo de la cuenta 146508 es: 228.0\n",
            "\n",
            "Transacciones para Usuario8:\n",
            "  - Depósito de $130\n",
            "  - Depósito de $174\n",
            "  - Retiro de $83\n",
            "El saldo de la cuenta 146246 es: 221.0\n",
            "\n",
            "Transacciones para Usuario9:\n",
            "  - Depósito de $135\n",
            "  - Depósito de $90\n",
            "  - Retiro de $79\n",
            "El saldo de la cuenta 146369 es: 146.0\n",
            "\n",
            "Transacciones para Usuario10:\n",
            "  - Depósito de $138\n",
            "  - Depósito de $83\n",
            "  - Retiro de $62\n",
            "El saldo de la cuenta 146619 es: 159.0\n",
            "\n",
            "--- Realizando 10 transferencias entre cuentas ---\n",
            "\n",
            "Transferencia #1:\n",
            "Transferencia realizada con exito\n",
            "\n",
            "Transferencia #2:\n",
            "Transferencia realizada con exito\n",
            "\n",
            "Transferencia #3:\n",
            "Transferencia realizada con exito\n",
            "\n",
            "Transferencia #4:\n",
            "Transferencia realizada con exito\n",
            "\n",
            "Transferencia #5:\n",
            "Transferencia realizada con exito\n",
            "\n",
            "Transferencia #6:\n",
            "Transferencia realizada con exito\n",
            "\n",
            "Transferencia #7:\n",
            "Transferencia realizada con exito\n",
            "\n",
            "Transferencia #8:\n",
            "Transferencia realizada con exito\n",
            "\n",
            "Transferencia #9:\n",
            "Transferencia realizada con exito\n",
            "\n",
            "Transferencia #10:\n",
            "Transferencia realizada con exito\n",
            "\n",
            "--- Saldos finales de todas las cuentas ---\n",
            "El saldo de la cuenta 146913 es: 153.0\n",
            "El saldo de la cuenta 146391 es: 248.0\n",
            "El saldo de la cuenta 146721 es: 89.0\n",
            "El saldo de la cuenta 146531 es: 62.0\n",
            "El saldo de la cuenta 146760 es: 174.0\n",
            "El saldo de la cuenta 146149 es: 236.0\n",
            "El saldo de la cuenta 146508 es: 137.0\n",
            "El saldo de la cuenta 146246 es: 291.0\n",
            "El saldo de la cuenta 146369 es: 192.0\n",
            "El saldo de la cuenta 146619 es: 116.0\n"
          ]
        }
      ]
    }
  ]
}