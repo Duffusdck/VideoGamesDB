{
  "nbformat": 4,
  "nbformat_minor": 0,
  "metadata": {
    "colab": {
      "provenance": [],
      "collapsed_sections": [
        "5aSgh1V_WqhD",
        "NHK9Yu8VdRr_",
        "TkPeMIqLesrc"
      ],
      "authorship_tag": "ABX9TyMFpW8MuLfT0VyEGGGA43yW",
      "include_colab_link": true
    },
    "kernelspec": {
      "name": "python3",
      "display_name": "Python 3"
    },
    "language_info": {
      "name": "python"
    }
  },
  "cells": [
    {
      "cell_type": "markdown",
      "metadata": {
        "id": "view-in-github",
        "colab_type": "text"
      },
      "source": [
        "<a href=\"https://colab.research.google.com/github/Duffusdck/VideoGamesDB/blob/main/VideoGamesDB/Pr%C3%A1ctica%20de%20laboratorio%20/Pruebas%20unitarias/PruebaUnitaria.ipynb\" target=\"_parent\"><img src=\"https://colab.research.google.com/assets/colab-badge.svg\" alt=\"Open In Colab\"/></a>"
      ]
    },
    {
      "cell_type": "markdown",
      "source": [
        "#Pruebas Unitarias"
      ],
      "metadata": {
        "id": "8QxWXcFYpW8_"
      }
    },
    {
      "cell_type": "code",
      "source": [
        "\n",
        "\n",
        "'''\n",
        "===============================================================================\n",
        "ENCABEZADO DEL MODULO\n",
        "===============================================================================\n",
        "MÓDULO: laboratorio.py\n",
        "OBJETIVO: Practica de laboratorio para la comprension de python bajo el paradigma de POO\n",
        "ASIGNATURA: Ciencia de datos\n",
        "AUTOR: Milton Hernan Cuitiva Romero\n",
        "'''\n",
        "\n"
      ],
      "metadata": {
        "id": "wXGrzPZPpaIS"
      },
      "execution_count": null,
      "outputs": []
    },
    {
      "cell_type": "markdown",
      "source": [
        "##Clase Person"
      ],
      "metadata": {
        "id": "5aSgh1V_WqhD"
      }
    },
    {
      "cell_type": "markdown",
      "source": [
        "###Metodo Constructor"
      ],
      "metadata": {
        "id": "gJ_pnqWBWxQn"
      }
    },
    {
      "cell_type": "code",
      "source": [
        "def __init__(self, n, e, b):\n",
        "    self.__name = n\n",
        "    self.email = None\n",
        "    self.set_email(e)\n",
        "    self.__age = self.calculateAge(b)"
      ],
      "metadata": {
        "id": "MmQlZ788W1eg"
      },
      "execution_count": null,
      "outputs": []
    },
    {
      "cell_type": "markdown",
      "source": [
        "###Metodo CalcularAge"
      ],
      "metadata": {
        "id": "0Qv8oLswXKHj"
      }
    },
    {
      "cell_type": "code",
      "source": [
        "def calculateAge(self, b):\n",
        "  days_in_year = 365.2425\n",
        "  age = int((date.today() - b).days / days_in_year)\n",
        "  return age"
      ],
      "metadata": {
        "id": "YNdAAl-GW3xv"
      },
      "execution_count": null,
      "outputs": []
    },
    {
      "cell_type": "markdown",
      "source": [
        "###Metodo set_email"
      ],
      "metadata": {
        "id": "IZINEbcwXUq2"
      }
    },
    {
      "cell_type": "code",
      "source": [
        "def set_email(self, e):\n",
        "    if e.count(\"@\") == 1 and e.find(\"@\") >= 1 and e.find(\"@\") + 2 < e.rfind(\".\"):\n",
        "        self.__email = e\n",
        "    else:\n",
        "        print(\"Invalid Email\", e)\n",
        "        self.__email = None"
      ],
      "metadata": {
        "id": "Xu9ABIxTXYgV"
      },
      "execution_count": null,
      "outputs": []
    },
    {
      "cell_type": "markdown",
      "source": [
        "###Metodos Get y Set"
      ],
      "metadata": {
        "id": "o3F-kKiZXb1c"
      }
    },
    {
      "cell_type": "code",
      "source": [
        "def get_email(self):\n",
        "  return self.__email\n",
        "\n",
        "def get_name(self):\n",
        "  return self.__name\n",
        "\n",
        "def set_name(self, n):\n",
        "  self.__name = n\n",
        "\n",
        "def get_age(self):\n",
        "  return self.__age"
      ],
      "metadata": {
        "id": "id-vv7ZMciLZ"
      },
      "execution_count": null,
      "outputs": []
    },
    {
      "cell_type": "markdown",
      "source": [
        "Metodo Eq\n"
      ],
      "metadata": {
        "id": "SWP-K7qCc6OK"
      }
    },
    {
      "cell_type": "code",
      "source": [
        "def __eq__(self, other):\n",
        "    return self.__name == other.__name"
      ],
      "metadata": {
        "id": "-fjcwhLOdCP3"
      },
      "execution_count": null,
      "outputs": []
    },
    {
      "cell_type": "markdown",
      "source": [
        "Metodo __str__"
      ],
      "metadata": {
        "id": "gPjv_9ZzdE95"
      }
    },
    {
      "cell_type": "code",
      "source": [
        "def __str__(self):\n",
        "    return (\"name: \" + self.__name + '\\t email: ' + self.__email + '\\t age: ' + str(self.__age))"
      ],
      "metadata": {
        "id": "FNbOZvUDdLmu"
      },
      "execution_count": null,
      "outputs": []
    },
    {
      "cell_type": "code",
      "execution_count": null,
      "metadata": {
        "id": "QrDHCt9nJdys"
      },
      "outputs": [],
      "source": [
        "class Person:\n",
        "    def __init__(self, n, e, b):\n",
        "        self.__name = n\n",
        "        self.email = None\n",
        "        self.set_email(e)\n",
        "        self.__age = self.calculateAge(b)\n",
        "\n",
        "    def calculateAge(self, b):\n",
        "        days_in_year = 365.2425\n",
        "        age = int((date.today() - b).days / days_in_year)\n",
        "        return age\n",
        "\n",
        "    def set_email(self, e):\n",
        "        if e.count(\"@\") == 1 and e.find(\"@\") >= 1 and e.find(\"@\") + 2 < e.rfind(\".\"):\n",
        "            self.__email = e\n",
        "        else:\n",
        "            print(\"Invalid Email\", e)\n",
        "            self.__email = None\n",
        "\n",
        "    def get_email(self):\n",
        "        return self.__email\n",
        "\n",
        "    def get_name(self):\n",
        "        return self.__name\n",
        "\n",
        "    def set_name(self, n):\n",
        "        self.__name = n\n",
        "\n",
        "    def get_age(self):\n",
        "        return self.__age\n",
        "\n",
        "    def __eq__(self, other):\n",
        "        return self.__name == other.__name\n",
        "\n",
        "    def __str__(self):\n",
        "        return (\"name: \" + self.__name + '\\t email: ' + self.__email + '\\t age: ' + str(self.__age))\n"
      ]
    },
    {
      "cell_type": "markdown",
      "source": [
        "##Clase Student\n",
        "Herencia de la Clase Person"
      ],
      "metadata": {
        "id": "NHK9Yu8VdRr_"
      }
    },
    {
      "cell_type": "markdown",
      "source": [
        "###Metodo Constructor"
      ],
      "metadata": {
        "id": "whDWqqoHdadB"
      }
    },
    {
      "cell_type": "code",
      "source": [
        "def __init__(self, n, e, b, ID):\n",
        "    super().__init__(n, e, b)  # Usando super() para llamar al constructor de Person\n",
        "    self.__SID = ID\n",
        "    self.__Courses = dict()\n",
        "    self.__AverageGrade = 0"
      ],
      "metadata": {
        "id": "MeKTC1AGdc4v"
      },
      "execution_count": null,
      "outputs": []
    },
    {
      "cell_type": "markdown",
      "source": [
        "Metodo addCourses"
      ],
      "metadata": {
        "id": "InHO_BKHdfSf"
      }
    },
    {
      "cell_type": "code",
      "source": [
        "def addCourses(self, CourseID, result):\n",
        "    self.__Courses[CourseID] = result\n",
        "    self.calculateAverage()"
      ],
      "metadata": {
        "id": "p3MiVAVudo7N"
      },
      "execution_count": null,
      "outputs": []
    },
    {
      "cell_type": "markdown",
      "source": [
        "###Metodo calculateAverage"
      ],
      "metadata": {
        "id": "Ii0lkvoUd528"
      }
    },
    {
      "cell_type": "code",
      "source": [
        "def calculateAverage(self):\n",
        "    if len(self.__Courses) > 0:\n",
        "        total = sum(self.__Courses.values())\n",
        "        self.__AverageGrade = total / len(self.__Courses)\n",
        "    else:\n",
        "        self.__AverageGrade = 0"
      ],
      "metadata": {
        "id": "vvboPl5yd9RV"
      },
      "execution_count": null,
      "outputs": []
    },
    {
      "cell_type": "markdown",
      "source": [
        "###Metodo get y set"
      ],
      "metadata": {
        "id": "mbQ7SDYYdqVU"
      }
    },
    {
      "cell_type": "code",
      "source": [
        "def get_AverageGrade(self):\n",
        "    return self.__AverageGrade\n",
        "\n",
        "def get_SID(self):\n",
        "    return self.__SID\n",
        "\n",
        "def get_Courses(self):\n",
        "    return self.__Courses\n",
        "\n",
        "def set_SID(self, ID):\n",
        "    self.__SID = ID"
      ],
      "metadata": {
        "id": "04YRYdnvdyZV"
      },
      "execution_count": null,
      "outputs": []
    },
    {
      "cell_type": "markdown",
      "source": [
        "###Metodo __str__"
      ],
      "metadata": {
        "id": "Tzgo2QVgeBnz"
      }
    },
    {
      "cell_type": "code",
      "source": [
        "def __str__(self):\n",
        "        return (super().__str__() + '\\t SID: ' + str(self.__SID) + '\\t Courses: ' + str(self.__Courses) + '\\t AverageGrade: ' + str(self.__AverageGrade))"
      ],
      "metadata": {
        "id": "zolOnrqCeEvS"
      },
      "execution_count": null,
      "outputs": []
    },
    {
      "cell_type": "markdown",
      "source": [
        "###Metodo Eq"
      ],
      "metadata": {
        "id": "zmyhGS-TeHSZ"
      }
    },
    {
      "cell_type": "code",
      "source": [
        "def __eq__(self, other):\n",
        "    return isinstance(other, Student) and self.__SID == other.__SID  # Compara por ID"
      ],
      "metadata": {
        "id": "WcmYLz9JeJ5u"
      },
      "execution_count": null,
      "outputs": []
    },
    {
      "cell_type": "markdown",
      "source": [
        "###Metodo __lt__"
      ],
      "metadata": {
        "id": "oN_h0U4CeMmW"
      }
    },
    {
      "cell_type": "code",
      "source": [
        "def __lt__(self, other):\n",
        "    return self.__AverageGrade < other.__AverageGrade"
      ],
      "metadata": {
        "id": "sUkSReFQekZZ"
      },
      "execution_count": null,
      "outputs": []
    },
    {
      "cell_type": "code",
      "source": [
        "class Student(Person):\n",
        "    def __init__(self, n, e, b, ID):\n",
        "        super().__init__(n, e, b)  # Usando super() para llamar al constructor de Person\n",
        "        self.__SID = ID\n",
        "        self.__Courses = dict()\n",
        "        self.__AverageGrade = 0\n",
        "\n",
        "    def addCourses(self, CourseID, result):\n",
        "        self.__Courses[CourseID] = result\n",
        "        self.calculateAverage()\n",
        "\n",
        "    def calculateAverage(self):\n",
        "        if len(self.__Courses) > 0:\n",
        "            total = sum(self.__Courses.values())\n",
        "            self.__AverageGrade = total / len(self.__Courses)\n",
        "        else:\n",
        "            self.__AverageGrade = 0\n",
        "\n",
        "    def get_AverageGrade(self):\n",
        "        return self.__AverageGrade\n",
        "\n",
        "    def get_SID(self):\n",
        "        return self.__SID\n",
        "\n",
        "    def get_Courses(self):\n",
        "        return self.__Courses\n",
        "\n",
        "    def set_SID(self, ID):\n",
        "        self.__SID = ID\n",
        "\n",
        "    def __str__(self):\n",
        "        return (super().__str__() + '\\t SID: ' + str(self.__SID) + '\\t Courses: ' + str(self.__Courses) + '\\t AverageGrade: ' + str(self.__AverageGrade))\n",
        "\n",
        "    def __eq__(self, other):\n",
        "        return isinstance(other, Student) and self.__SID == other.__SID  # Compara por ID\n",
        "\n",
        "    def __lt__(self, other):\n",
        "        return self.__AverageGrade < other.__AverageGrade"
      ],
      "metadata": {
        "id": "EQ43a9oJJkIr"
      },
      "execution_count": null,
      "outputs": []
    },
    {
      "cell_type": "markdown",
      "source": [
        "##Codigo"
      ],
      "metadata": {
        "id": "TkPeMIqLesrc"
      }
    },
    {
      "cell_type": "code",
      "source": [
        "# Lista de Estudiantes\n",
        "students_list = []\n",
        "\n",
        "S1 = Student(\"khouloud\", \"kh@hotmail.com\", date(1995, 2, 3), 123)\n",
        "S1.addCourses(\"CS120\", 90)\n",
        "S1.addCourses(\"IT320\", 95)\n",
        "S1.addCourses(\"CS100\", 95)\n",
        "\n",
        "S2 = Student(\"khadija\", \"khadija@gmail.com\", date(1995, 9, 3), 232)\n",
        "S2.addCourses(\"CS120\", 80)\n",
        "S2.addCourses(\"IT320\", 75)\n",
        "S2.addCourses(\"CS100\", 95)\n",
        "\n",
        "S3 = Student(\"khaled\", \"khaled@gamil.com\", date(1999, 5, 6), 235)\n",
        "S3.addCourses(\"CS120\", 75)\n",
        "S3.addCourses(\"IT320\", 88)\n",
        "S3.addCourses(\"CS100\", 90)\n",
        "\n",
        "students_list.append(S1)\n",
        "students_list.append(S2)\n",
        "students_list.append(S3)\n",
        "\n",
        "# Búsqueda\n",
        "\"\"\"\n",
        "Modificacion de la forma anterior de buscar un estudiante, ahora solo es necesario el SID del estudiante para facilitar mas la busqueda del estudiante\n",
        "\"\"\"\n",
        "searchs = Student(\"\", \" @  .\", date.today(), 123)\n",
        "\n",
        "if students_list.count(searchs) > 0:\n",
        "    searchs = students_list[students_list.index(searchs)]\n",
        "    print(\"the student is found \" + str(searchs))\n",
        "else:\n",
        "    print(\"the student is NOT found\")\n",
        "\n",
        "\n",
        "for p in students_list:\n",
        "    print(p)\n",
        "print(\"\\n\")"
      ],
      "metadata": {
        "id": "F4SWXA6PJnoi",
        "colab": {
          "base_uri": "https://localhost:8080/"
        },
        "outputId": "2d4fa1a2-dedf-42b7-8352-a63eacff9ff2"
      },
      "execution_count": null,
      "outputs": [
        {
          "output_type": "stream",
          "name": "stdout",
          "text": [
            "the student is found name: khouloud\t email: kh@hotmail.com\t age: 30\t SID: 123\t Courses: {'CS120': 90, 'IT320': 95, 'CS100': 95}\t AverageGrade: 93.33333333333333\n",
            "name: khouloud\t email: kh@hotmail.com\t age: 30\t SID: 123\t Courses: {'CS120': 90, 'IT320': 95, 'CS100': 95}\t AverageGrade: 93.33333333333333\n",
            "name: khadija\t email: khadija@gmail.com\t age: 30\t SID: 232\t Courses: {'CS120': 80, 'IT320': 75, 'CS100': 95}\t AverageGrade: 83.33333333333333\n",
            "name: khaled\t email: khaled@gamil.com\t age: 26\t SID: 235\t Courses: {'CS120': 75, 'IT320': 88, 'CS100': 90}\t AverageGrade: 84.33333333333333\n",
            "\n",
            "\n"
          ]
        }
      ]
    },
    {
      "cell_type": "code",
      "source": [
        "# Crear el archivo classes.py\n",
        "\n",
        "classes_code = \"\"\"\n",
        "\n",
        "from datetime import date\n",
        "\n",
        "class Person:\n",
        "    def __init__(self, n, e, b):\n",
        "        self.__name = n\n",
        "        self.__email = None  # Inicializar el atributo email aquí\n",
        "        self.set_email(e)  # Llamar al método para validar y establecer el email\n",
        "        self.__age = self.calculateAge(b)\n",
        "\n",
        "    def calculateAge(self, b):\n",
        "        days_in_year = 365.2425\n",
        "        age = int((date.today() - b).days / days_in_year)\n",
        "        return age\n",
        "\n",
        "    def set_email(self, e):\n",
        "        if e.count(\"@\") == 1 and e.find(\"@\") >= 1 and e.find(\"@\") + 2 < e.rfind(\".\"):\n",
        "            self.__email = e\n",
        "        else:\n",
        "            print(\"Invalid Email\", e)\n",
        "\n",
        "    def get_email(self):\n",
        "        return self.__email\n",
        "\n",
        "    def get_name(self):\n",
        "        return self.__name\n",
        "\n",
        "    def set_name(self, n):\n",
        "        self.__name = n\n",
        "\n",
        "    def get_age(self):\n",
        "        return self.__age\n",
        "\n",
        "    def __eq__(self, other):\n",
        "        return self.__name == other.__name\n",
        "\n",
        "    def __str__(self):\n",
        "        return (\"name: \" + self.__name + '\\t email: ' + str(self.__email) + '\\t age: ' + str(self.__age))\n",
        "\n",
        "\n",
        "class Student(Person):\n",
        "    def __init__(self, n, e, b, ID):\n",
        "        super().__init__(n, e, b)\n",
        "        self.__SID = ID\n",
        "        self.__Courses = dict()\n",
        "        self.__AverageGrade = 0\n",
        "\n",
        "    def addCourses(self, CourseID, result):\n",
        "        self.__Courses[CourseID] = result\n",
        "        self.calculateAverage()\n",
        "\n",
        "    def calculateAverage(self):\n",
        "        if len(self.__Courses) > 0:\n",
        "            total = sum(self.__Courses.values())\n",
        "            self.__AverageGrade = total / len(self.__Courses)\n",
        "        else:\n",
        "            self.__AverageGrade = 0\n",
        "\n",
        "    def get_AverageGrade(self):\n",
        "        return self.__AverageGrade\n",
        "\n",
        "    def get_SID(self):\n",
        "        return self.__SID\n",
        "\n",
        "    def get_Courses(self):\n",
        "        return self.__Courses\n",
        "\n",
        "    def set_SID(self, ID):\n",
        "        self.__SID = ID\n",
        "\n",
        "    def __str__(self):\n",
        "        return (super().__str__() + '\\t SID: ' + str(self.__SID) + '\\t Courses: ' + str(self.__Courses) + '\\t AverageGrade: ' + str(self.__AverageGrade))\n",
        "\n",
        "    def __eq__(self, other):\n",
        "        return isinstance(other, Student) and self.__SID == other.__SID\n",
        "\n",
        "    def __lt__(self, other):\n",
        "        return self.__AverageGrade < other.__AverageGrade\n",
        "\n",
        "\"\"\"\n",
        "\n",
        "with open('classes.py', 'w') as f:\n",
        "    f.write(classes_code)\n"
      ],
      "metadata": {
        "id": "QLDQJtvIJoLC"
      },
      "execution_count": null,
      "outputs": []
    },
    {
      "cell_type": "code",
      "source": [
        "# Crear el archivo test_classes.py\n",
        "\n",
        "test_code = \"\"\"\n",
        "import pytest\n",
        "from datetime import date\n",
        "from classes import Person, Student\n",
        "\n",
        "# Pruebas para la clase Person\n",
        "def test_person_creation():\n",
        "    person = Person(\"John Doe\", \"john.doe@example.com\", date(1990, 5, 20))\n",
        "    assert person.get_name() == \"John Doe\"\n",
        "    assert person.get_email() == \"john.doe@example.com\"\n",
        "    assert person.get_age() == person.calculateAge(date(1990, 5, 20))\n",
        "\n",
        "def test_person_email_validation():\n",
        "    person = Person(\"John Doe\", \"invalid_email\", date(1992, 3, 15))\n",
        "    assert person.get_email() is None  # No debe aceptar un correo inválido\n",
        "\n",
        "# Pruebas para la clase Student\n",
        "def test_student_creation():\n",
        "    student = Student(\"Alice\", \"alice@example.com\", date(2000, 1, 1), 12345)\n",
        "    assert student.get_name() == \"Alice\"\n",
        "    assert student.get_SID() == 12345\n",
        "    assert student.get_AverageGrade() == 0.0   # Recién creado no tiene notas\n",
        "\n",
        "def test_student_add_courses():\n",
        "    student = Student(\"Bob\", \"bob@example.com\", date(1998, 6, 12), 67890)\n",
        "    student.addCourses(\"CS101\", 90)\n",
        "    student.addCourses(\"Math101\", 85)\n",
        "    assert len(student.get_Courses()) == 2\n",
        "    assert student.get_AverageGrade() == 87.5\n",
        "\"\"\"\n",
        "\n",
        "# Escribir el código en el archivo test_classes.py\n",
        "with open('test_classes.py', 'w') as f:\n",
        "    f.write(test_code)\n"
      ],
      "metadata": {
        "id": "dnSA4R2BJt3K"
      },
      "execution_count": null,
      "outputs": []
    },
    {
      "cell_type": "code",
      "source": [
        "!pip install pytest"
      ],
      "metadata": {
        "id": "44Xea2rdJwGi",
        "colab": {
          "base_uri": "https://localhost:8080/"
        },
        "outputId": "af7915b6-0fc2-40bb-c949-9ee6457e0af4"
      },
      "execution_count": null,
      "outputs": [
        {
          "output_type": "stream",
          "name": "stdout",
          "text": [
            "Requirement already satisfied: pytest in /usr/local/lib/python3.12/dist-packages (8.4.2)\n",
            "Requirement already satisfied: iniconfig>=1 in /usr/local/lib/python3.12/dist-packages (from pytest) (2.1.0)\n",
            "Requirement already satisfied: packaging>=20 in /usr/local/lib/python3.12/dist-packages (from pytest) (25.0)\n",
            "Requirement already satisfied: pluggy<2,>=1.5 in /usr/local/lib/python3.12/dist-packages (from pytest) (1.6.0)\n",
            "Requirement already satisfied: pygments>=2.7.2 in /usr/local/lib/python3.12/dist-packages (from pytest) (2.19.2)\n"
          ]
        }
      ]
    },
    {
      "cell_type": "code",
      "source": [
        "!pytest test_classes.py"
      ],
      "metadata": {
        "id": "6EpkzkIsJzOX",
        "colab": {
          "base_uri": "https://localhost:8080/"
        },
        "outputId": "2c704fd5-b8fc-455d-d72a-cc6a847b7e93"
      },
      "execution_count": null,
      "outputs": [
        {
          "output_type": "stream",
          "name": "stdout",
          "text": [
            "\u001b[1m============================= test session starts ==============================\u001b[0m\n",
            "platform linux -- Python 3.12.11, pytest-8.4.2, pluggy-1.6.0\n",
            "rootdir: /content\n",
            "plugins: langsmith-0.4.28, typeguard-4.4.4, anyio-4.10.0\n",
            "\u001b[1mcollecting ... \u001b[0m\u001b[1m\rcollected 4 items                                                              \u001b[0m\n",
            "\n",
            "test_classes.py \u001b[32m.\u001b[0m\u001b[32m.\u001b[0m\u001b[32m.\u001b[0m\u001b[32m.\u001b[0m\u001b[32m                                                     [100%]\u001b[0m\n",
            "\n",
            "\u001b[32m============================== \u001b[32m\u001b[1m4 passed\u001b[0m\u001b[32m in 0.03s\u001b[0m\u001b[32m ===============================\u001b[0m\n"
          ]
        }
      ]
    }
  ]
}